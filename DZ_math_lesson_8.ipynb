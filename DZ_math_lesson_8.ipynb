{
 "cells": [
  {
   "cell_type": "code",
   "execution_count": 1,
   "metadata": {},
   "outputs": [],
   "source": [
    "import numpy as np\n",
    "import scipy\n",
    "import scipy.linalg\n",
    "import matplotlib.pyplot as plt\n",
    "\n",
    "import warnings\n",
    "warnings.filterwarnings('ignore')"
   ]
  },
  {
   "cell_type": "markdown",
   "metadata": {},
   "source": [
    "##### 1. Решите линейную систему:"
   ]
  },
  {
   "cell_type": "markdown",
   "metadata": {},
   "source": [
    "$ \\begin{equation} \n",
    "\\begin{pmatrix}\n",
    "1 & 2 & 3\\\\\n",
    "4 & 0 & 6\\\\\n",
    "7 & 8 & 9\\\\\n",
    "\\end{pmatrix} \\cdot X = \n",
    "\\begin{pmatrix}\n",
    "12\\\\\n",
    "2\\\\\n",
    "1\\\\\n",
    "\\end{pmatrix}\n",
    "\\end{equation} $"
   ]
  },
  {
   "cell_type": "code",
   "execution_count": 2,
   "metadata": {},
   "outputs": [
    {
     "name": "stdout",
     "output_type": "stream",
     "text": [
      " \n",
      "x1 = -9.2 x2 = 0.9 x3 = 6.47\n"
     ]
    },
    {
     "data": {
      "text/plain": [
       "array([12.,  2.,  1.])"
      ]
     },
     "execution_count": 2,
     "metadata": {},
     "output_type": "execute_result"
    }
   ],
   "source": [
    "A = np.array([[1, 2, 3], [4, 0, 6], [7, 8, 9]])\n",
    "B = np.array([12, 2, 1])\n",
    "\n",
    "print(' ')\n",
    "X = np.linalg.solve(A, B)\n",
    "print('x1 =', np.round(X[0],2), 'x2 =', np.round(X[1],2), 'x3 =', np.round(X[2],2))\n",
    "      \n",
    "np.dot(A, X)"
   ]
  },
  {
   "cell_type": "markdown",
   "metadata": {},
   "source": [
    "##### 2. Найдите псевдорешение:"
   ]
  },
  {
   "cell_type": "markdown",
   "metadata": {},
   "source": [
    "$\\begin{array} \\ x + 2y – z = 1 \\\\ 3x – 4y = 7 \\\\ 8x – 5y + 2z = 12 \\\\ 2x – 5z = 7 \\\\ 11x +4y – 7z = 15 \\end{array}$"
   ]
  },
  {
   "cell_type": "markdown",
   "metadata": {},
   "source": [
    "$ \\begin{equation} \n",
    "\\begin{pmatrix}\n",
    "1 & 2 & -1\\\\\n",
    "3 & -4 & 0\\\\\n",
    "8 & -5 & 2\\\\\n",
    "2 & 0 & -5\\\\\n",
    "11 & 4 & -7\\\\\n",
    "\\end{pmatrix} \\cdot\n",
    "\\begin{pmatrix}\n",
    "X\\\\\n",
    "Y\\\\\n",
    "Z\\\\\n",
    "\\end{pmatrix} = \n",
    "\\begin{pmatrix}\n",
    "1\\\\\n",
    "7\\\\\n",
    "12\\\\\n",
    "7\\\\\n",
    "15\\\\\n",
    "\\end{pmatrix}\n",
    "\\end{equation} $"
   ]
  },
  {
   "cell_type": "code",
   "execution_count": 3,
   "metadata": {},
   "outputs": [
    {
     "data": {
      "text/plain": [
       "(array([ 1.13919353, -0.90498444, -0.9009803 ]),\n",
       " array([0.71523211]),\n",
       " 3,\n",
       " array([15.2817306 ,  9.59852942,  3.65197794]))"
      ]
     },
     "execution_count": 3,
     "metadata": {},
     "output_type": "execute_result"
    }
   ],
   "source": [
    "A = np.array([[1, 2, -1], [3, -4, 0], [8, -5, 2], [2, 0, -5], [11, 4, -7]])\n",
    "B = np.array([1, 7, 12, 7, 15])\n",
    "np.linalg.lstsq(A, B)"
   ]
  },
  {
   "cell_type": "code",
   "execution_count": 4,
   "metadata": {},
   "outputs": [
    {
     "data": {
      "text/plain": [
       "array([ 0.23,  7.04, 11.84,  6.78, 15.22])"
      ]
     },
     "execution_count": 4,
     "metadata": {},
     "output_type": "execute_result"
    }
   ],
   "source": [
    "X = np.round(np.dot(A, [1.13919353, -0.90498444, -0.9009803]),2)\n",
    "X"
   ]
  },
  {
   "cell_type": "code",
   "execution_count": 5,
   "metadata": {},
   "outputs": [
    {
     "data": {
      "text/plain": [
       "array([-0.77,  0.04, -0.16, -0.22,  0.22])"
      ]
     },
     "execution_count": 5,
     "metadata": {},
     "output_type": "execute_result"
    }
   ],
   "source": [
    "d = X-B\n",
    "d"
   ]
  },
  {
   "cell_type": "code",
   "execution_count": 6,
   "metadata": {},
   "outputs": [
    {
     "data": {
      "text/plain": [
       "0.71523211"
      ]
     },
     "execution_count": 6,
     "metadata": {},
     "output_type": "execute_result"
    }
   ],
   "source": [
    "np.round((np.linalg.norm(np.dot(A, [1.13919353, -0.90498444, -0.9009803])-B)**2),8)"
   ]
  },
  {
   "cell_type": "markdown",
   "metadata": {},
   "source": [
    "#### 3. Сколько решений имеет линейная система:\n"
   ]
  },
  {
   "cell_type": "markdown",
   "metadata": {},
   "source": [
    "$ \\begin{equation} \n",
    "\\begin{pmatrix}\n",
    "1 & 2 & 3\\\\\n",
    "4 & 5 & 6\\\\\n",
    "7 & 8 & 9\\\\\n",
    "\\end{pmatrix} \\cdot X = \n",
    "\\begin{pmatrix}\n",
    "2\\\\\n",
    "5\\\\\n",
    "1\\\\\n",
    "\\end{pmatrix}\n",
    "\\end{equation} $"
   ]
  },
  {
   "cell_type": "markdown",
   "metadata": {},
   "source": [
    "#### Если ноль – то измените вектор правой части так, чтобы система стала совместной, и решите ее. "
   ]
  },
  {
   "cell_type": "markdown",
   "metadata": {},
   "source": [
    "Создадим расшииренную матрицу 'C' и сравним ее ранг с рангом исходной матрицы 'A'. Если ранг 'C' > ранга 'A', то система решений не имеет."
   ]
  },
  {
   "cell_type": "code",
   "execution_count": 7,
   "metadata": {},
   "outputs": [
    {
     "name": "stdout",
     "output_type": "stream",
     "text": [
      "ранг А = 2 ранг С = 3\n",
      "система решений не имеет\n"
     ]
    }
   ],
   "source": [
    "A = np.array([[1,2,3], [4,5,6], [7,8,9]])\n",
    "B = np.array([[2,5,1]])\n",
    "C = np.concatenate((A, B.T), axis=1)\n",
    "print('ранг А =', np.linalg.matrix_rank(A), 'ранг С =', np.linalg.matrix_rank(C))\n",
    "if np.linalg.matrix_rank(C) > np.linalg.matrix_rank(A):\n",
    "    print('система решений не имеет'); "
   ]
  },
  {
   "cell_type": "markdown",
   "metadata": {},
   "source": [
    "Пусть В будет со значениями 12, 18, 24 и проверим что получится"
   ]
  },
  {
   "cell_type": "code",
   "execution_count": 8,
   "metadata": {},
   "outputs": [
    {
     "name": "stdout",
     "output_type": "stream",
     "text": [
      "ранг А = 2 ранг С = 2\n"
     ]
    }
   ],
   "source": [
    "B1 = np.array([[12,18,24]])\n",
    "C = np.concatenate((A, B1.T), axis=1)\n",
    "print('ранг А =', np.linalg.matrix_rank(A), 'ранг С =', np.linalg.matrix_rank(C))"
   ]
  },
  {
   "cell_type": "markdown",
   "metadata": {},
   "source": [
    "Решение есть:"
   ]
  },
  {
   "cell_type": "code",
   "execution_count": 9,
   "metadata": {},
   "outputs": [
    {
     "name": "stdout",
     "output_type": "stream",
     "text": [
      "x1 = -1.6 x2 = -2.8 x3 = 6.4\n"
     ]
    },
    {
     "data": {
      "text/plain": [
       "array([12., 18., 24.])"
      ]
     },
     "execution_count": 9,
     "metadata": {},
     "output_type": "execute_result"
    }
   ],
   "source": [
    "B1 = np.array([12,18,24])\n",
    "X = np.linalg.solve(A, B1)\n",
    "print('x1 =', np.round(X[0],2), 'x2 =', np.round(X[1],2), 'x3 =', np.round(X[2],2))\n",
    "      \n",
    "np.dot(A, X)"
   ]
  },
  {
   "cell_type": "markdown",
   "metadata": {},
   "source": [
    "Посмотрим на зависимость строк и столбцов:"
   ]
  },
  {
   "cell_type": "code",
   "execution_count": 10,
   "metadata": {},
   "outputs": [
    {
     "data": {
      "text/plain": [
       "-0.0"
      ]
     },
     "execution_count": 10,
     "metadata": {},
     "output_type": "execute_result"
    }
   ],
   "source": [
    "np.round(np.linalg.det(A))"
   ]
  },
  {
   "cell_type": "markdown",
   "metadata": {},
   "source": [
    "### Общий вывод: после преобразования система стала нетривиально совместна и иметь более одного решения, т.к. det основной матрицы = 0, ранги основной и расширенной матриц  равны, но меньше числа неизвестных. Т.о., приведенное выше решение является одним из множества решений."
   ]
  },
  {
   "cell_type": "markdown",
   "metadata": {},
   "source": [
    "#### 4. Вычислите LU-разложение матрицы:"
   ]
  },
  {
   "cell_type": "markdown",
   "metadata": {},
   "source": [
    "$\\begin{pmatrix}\n",
    "1 & 2 & 3\\\\\n",
    "2 & 16 & 21\\\\\n",
    "4 & 28 & 73\\\\\n",
    "\\end{pmatrix}$"
   ]
  },
  {
   "cell_type": "markdown",
   "metadata": {},
   "source": [
    "После этого придумайте вектор правых частей и решите полученную линейную систему трех уравнений с данной матрицей."
   ]
  },
  {
   "cell_type": "code",
   "execution_count": 11,
   "metadata": {},
   "outputs": [
    {
     "name": "stdout",
     "output_type": "stream",
     "text": [
      "[[0. 1. 0.]\n",
      " [0. 0. 1.]\n",
      " [1. 0. 0.]]\n",
      "[[ 1.    0.    0.  ]\n",
      " [ 0.25  1.    0.  ]\n",
      " [ 0.5  -0.4   1.  ]]\n",
      "[[  4.    28.    73.  ]\n",
      " [  0.    -5.   -15.25]\n",
      " [  0.     0.   -21.6 ]]\n",
      "[[0. 0. 0.]\n",
      " [0. 0. 0.]\n",
      " [0. 0. 0.]]\n"
     ]
    }
   ],
   "source": [
    "A = np.array([[1,2,3], [2,16,21], [4,28,73]])\n",
    "\n",
    "P, L, U = scipy.linalg.lu(A)\n",
    "\n",
    "print(P)\n",
    "print(L)\n",
    "print(U)\n",
    "\n",
    "print(np.dot(P.T, A) - np.dot(L, U))"
   ]
  },
  {
   "cell_type": "code",
   "execution_count": 12,
   "metadata": {},
   "outputs": [
    {
     "name": "stdout",
     "output_type": "stream",
     "text": [
      "ранг А = 3 ранг С = 3\n",
      "det = 432.0\n"
     ]
    }
   ],
   "source": [
    "B1 = np.array([[12,18,24]])\n",
    "C = np.concatenate((A, B1.T), axis=1)\n",
    "print('ранг А =', np.linalg.matrix_rank(A), 'ранг С =', np.linalg.matrix_rank(C))\n",
    "print('det =', np.round(np.linalg.det(A)))"
   ]
  },
  {
   "cell_type": "markdown",
   "metadata": {},
   "source": [
    "### Интересно получилось: у системы есть единственное решение"
   ]
  },
  {
   "cell_type": "code",
   "execution_count": 13,
   "metadata": {},
   "outputs": [
    {
     "name": "stdout",
     "output_type": "stream",
     "text": [
      "x1 = 13.19 x2 = -0.01 x3 = -0.39\n",
      "[12. 18. 24.]\n"
     ]
    }
   ],
   "source": [
    "B1 = np.array([12,18,24])\n",
    "X = np.linalg.solve(A, B1)\n",
    "print('x1 =', np.round(X[0],2), 'x2 =', np.round(X[1],2), 'x3 =', np.round(X[2],2))\n",
    "      \n",
    "print(np.dot(A, X))"
   ]
  },
  {
   "cell_type": "markdown",
   "metadata": {},
   "source": [
    "#### 5. Найдите нормальное псевдорешение недоопределенной системы:"
   ]
  },
  {
   "cell_type": "markdown",
   "metadata": {},
   "source": [
    "$\\begin{array} \\ x + 2y – z = 1 \\\\ 8x – 5y + 2z = 12 \\end{array}$"
   ]
  },
  {
   "cell_type": "markdown",
   "metadata": {},
   "source": [
    "Для этого определите функцию Q(x,y,z), равную норме решения, и найдите ее минимум."
   ]
  },
  {
   "cell_type": "code",
   "execution_count": 14,
   "metadata": {},
   "outputs": [
    {
     "data": {
      "image/png": "[encoded data removed]",
      "text/plain": [
       "<Figure size 432x288 with 1 Axes>"
      ]
     },
     "metadata": {
      "needs_background": "light"
     },
     "output_type": "display_data"
    },
    {
     "name": "stdout",
     "output_type": "stream",
     "text": [
      "(array([ 1.38191882, -0.18081181,  0.0202952 ]), array([], dtype=float64), 2, array([9.65316119, 2.41173777]))\n"
     ]
    }
   ],
   "source": [
    "def Q(x, y, z):\n",
    "    return (x**2 + y**2 + z**2)\n",
    "\n",
    "x = np.linspace(1.35, 1.4, 201)\n",
    "plt.plot(x, Q(x, 10 * x - 14, 21 * x -29))\n",
    "plt.xlabel('x')\n",
    "plt.ylabel('Q(x)')\n",
    "plt.grid(True)\n",
    "plt.ylim(1.8, 2.2)\n",
    "plt.show()\n",
    "\n",
    "A = np.array([[1, 2, -1], [8, -5, 2]])\n",
    "B = np.array([1,12])\n",
    "\n",
    "print(np.linalg.lstsq(A,B))"
   ]
  },
  {
   "cell_type": "code",
   "execution_count": 15,
   "metadata": {},
   "outputs": [
    {
     "data": {
      "text/plain": [
       "array([0., 0.])"
      ]
     },
     "execution_count": 15,
     "metadata": {},
     "output_type": "execute_result"
    }
   ],
   "source": [
    "np.round(np.dot(A, [1.38191882, -0.18081181,  0.0202952])) - B"
   ]
  },
  {
   "cell_type": "markdown",
   "metadata": {},
   "source": [
    "#### 6. Найдите одно из псевдорешений вырожденной системы:"
   ]
  },
  {
   "cell_type": "markdown",
   "metadata": {},
   "source": [
    "$\\begin{equation} \n",
    "\\begin{pmatrix}\n",
    "1 & 2 & 3\\\\\n",
    "4 & 5 & 6\\\\\n",
    "7 & 8 & 9\\\\\n",
    "\\end{pmatrix} \\cdot X = \n",
    "\\begin{pmatrix}\n",
    "2\\\\\n",
    "5\\\\\n",
    "11\\\\\n",
    "\\end{pmatrix}\n",
    "\\end{equation}$"
   ]
  },
  {
   "cell_type": "markdown",
   "metadata": {},
   "source": [
    "Попробуйте также отыскать и нормальное псевдорешение."
   ]
  },
  {
   "cell_type": "code",
   "execution_count": 16,
   "metadata": {},
   "outputs": [
    {
     "name": "stdout",
     "output_type": "stream",
     "text": [
      "ранг А = 2 ранг С = 3\n",
      "det = -0.0\n",
      " \n",
      "[[1 2 3]\n",
      " [4 5 6]\n",
      " [7 8 9]]\n",
      "[[-0.12309149  0.90453403  0.40824829]\n",
      " [-0.49236596  0.30151134 -0.81649658]\n",
      " [-0.86164044 -0.30151134  0.40824829]]\n",
      "[[-8.12403840e+00 -9.60113630e+00 -1.10782342e+01]\n",
      " [ 0.00000000e+00  9.04534034e-01  1.80906807e+00]\n",
      " [ 0.00000000e+00  0.00000000e+00 -1.11164740e-15]]\n"
     ]
    }
   ],
   "source": [
    "A = np.array([[1,2,3], [4,5,6], [7,8,9]])\n",
    "B = np.array([[2,5,11]])\n",
    "Q, R = np.linalg.qr(A)\n",
    "\n",
    "C = np.concatenate((A, B.T), axis=1)\n",
    "print('ранг А =', np.linalg.matrix_rank(A), 'ранг С =', np.linalg.matrix_rank(C))\n",
    "print('det =', np.round(np.linalg.det(A)))\n",
    "print(' ')\n",
    "print (A)\n",
    "print (Q)\n",
    "print (R)"
   ]
  },
  {
   "cell_type": "code",
   "execution_count": 17,
   "metadata": {},
   "outputs": [
    {
     "name": "stdout",
     "output_type": "stream",
     "text": [
      "[[1. 2. 3.]\n",
      " [4. 5. 6.]\n",
      " [7. 8. 9.]]\n"
     ]
    }
   ],
   "source": [
    "print(np.dot(Q, R))"
   ]
  },
  {
   "cell_type": "code",
   "execution_count": 18,
   "metadata": {},
   "outputs": [
    {
     "name": "stdout",
     "output_type": "stream",
     "text": [
      "[[ 1. -0. -0.]\n",
      " [-0.  1.  0.]\n",
      " [-0.  0.  1.]]\n"
     ]
    }
   ],
   "source": [
    "print(np.round(np.dot(Q.T, Q)))"
   ]
  },
  {
   "cell_type": "code",
   "execution_count": 19,
   "metadata": {},
   "outputs": [
    {
     "data": {
      "text/plain": [
       "array([-12.,   0.])"
      ]
     },
     "execution_count": 19,
     "metadata": {},
     "output_type": "execute_result"
    }
   ],
   "source": [
    "R1 = R[:2, :2]\n",
    "B = np.array([2,5,11])\n",
    "B1 = np.dot(Q.T, B)[: 2]\n",
    "np.round(B1)"
   ]
  },
  {
   "cell_type": "code",
   "execution_count": 25,
   "metadata": {},
   "outputs": [
    {
     "name": "stdout",
     "output_type": "stream",
     "text": [
      "[1. 0.]\n",
      "[1. 0. 0.]\n"
     ]
    },
    {
     "data": {
      "text/plain": [
       "(1.5, 1.22)"
      ]
     },
     "execution_count": 25,
     "metadata": {},
     "output_type": "execute_result"
    }
   ],
   "source": [
    "X1 = np.linalg.solve(R1, B1)\n",
    "print(np.round(X1))\n",
    "X = np.append(X1, 0)\n",
    "print(np.round(X))\n",
    "np.round(np.linalg.norm(X),2), np.round(np.linalg.norm(np.dot(A, X) - B),2)"
   ]
  },
  {
   "cell_type": "code",
   "execution_count": 21,
   "metadata": {},
   "outputs": [
    {
     "data": {
      "text/plain": [
       "(array([ 1.25,  0.5 , -0.25]),\n",
       " array([], dtype=float64),\n",
       " 2,\n",
       " array([1.68481034e+01, 1.06836951e+00, 3.33475287e-16]))"
      ]
     },
     "execution_count": 21,
     "metadata": {},
     "output_type": "execute_result"
    }
   ],
   "source": [
    "np.linalg.lstsq(A, B)"
   ]
  },
  {
   "cell_type": "code",
   "execution_count": 22,
   "metadata": {},
   "outputs": [
    {
     "data": {
      "text/plain": [
       "(1.37, 1.22)"
      ]
     },
     "execution_count": 22,
     "metadata": {},
     "output_type": "execute_result"
    }
   ],
   "source": [
    "X = [1.25, 0.5, -0.25]\n",
    "np.round(np.linalg.norm(X),2), np.round(np.linalg.norm(np.dot(A, X) - B),2)"
   ]
  }
 ],
 "metadata": {
  "kernelspec": {
   "display_name": "Python 3",
   "language": "python",
   "name": "python3"
  },
  "language_info": {
   "codemirror_mode": {
    "name": "ipython",
    "version": 3
   },
   "file_extension": ".py",
   "mimetype": "text/x-python",
   "name": "python",
   "nbconvert_exporter": "python",
   "pygments_lexer": "ipython3",
   "version": "3.7.3"
  }
 },
 "nbformat": 4,
 "nbformat_minor": 2
}
