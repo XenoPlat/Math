{
 "cells": [
  {
   "cell_type": "code",
   "execution_count": 1,
   "metadata": {},
   "outputs": [],
   "source": [
    "import warnings\n",
    "warnings.filterwarnings('ignore')"
   ]
  },
  {
   "cell_type": "markdown",
   "metadata": {},
   "source": [
    "### Урок: “Производные функций нескольких переменных”"
   ]
  },
  {
   "cell_type": "markdown",
   "metadata": {},
   "source": [
    "### 1.       Исследовать функцию на условный экстремум."
   ]
  },
  {
   "cell_type": "markdown",
   "metadata": {},
   "source": [
    "## 1.1 $U=3-8x+6y$, если $x^{2} +y^{2} =36$"
   ]
  },
  {
   "cell_type": "markdown",
   "metadata": {},
   "source": [
    "$\\large\\boldsymbol{L^{\\prime }_{x} =\\left( 3-8x+6y+\\lambda \\cdot \\left( x^{2} +y^{2} -36\\right)\\right)=2x\\lambda -8\\\\\n",
    "L^{\\prime }_{y} =\\left( 3-8x+6y+\\lambda \\cdot \\left( x^{2} +y^{2} -36\\right)\\right)=2y\\lambda +6\\\\\n",
    "\\phi =x^{2} +y^{2} -36}$"
   ]
  },
  {
   "cell_type": "markdown",
   "metadata": {},
   "source": [
    "#### Вспомогательная функция:"
   ]
  },
  {
   "cell_type": "markdown",
   "metadata": {},
   "source": [
    "$\\large\\boldsymbol{\n",
    "L=3-8x+6y+\\lambda \\cdot \\left( x^{2} +y^{2} -36\\right)}$"
   ]
  },
  {
   "cell_type": "markdown",
   "metadata": {},
   "source": [
    "#### Составим систему:"
   ]
  },
  {
   "cell_type": "markdown",
   "metadata": {},
   "source": [
    "$\\large\\boldsymbol{\\begin{cases}L^{\\prime }_{x} =0\\\\L^{\\prime }_{y} =0\\\\\\phi =0\\end{cases} \\Rightarrow \\begin{cases}2x\\lambda -8=0\\\\2y\\lambda +6=0\\\\x^{2} +y^{2} -36=0\\end{cases}}$\n"
   ]
  },
  {
   "cell_type": "markdown",
   "metadata": {},
   "source": [
    "#### Определяем стационарные точки:"
   ]
  },
  {
   "cell_type": "markdown",
   "metadata": {},
   "source": [
    "$\\large\\boldsymbol{2x\\lambda -8=0\\; => x=\\frac{8}{2\\lambda } =\\frac{4}{\\lambda }\\\\2y\\lambda +6=0\\; =>\n",
    "y=-\\frac{6}{2\\lambda } =-\\frac{3}{\\lambda }}$"
   ]
  },
  {
   "cell_type": "markdown",
   "metadata": {},
   "source": [
    "$\\large\\boldsymbol{\\left(\\frac{4}{\\lambda }\\right)^{2} +\\left( -\\frac{3}{\\lambda }\\right)^{2} -36=0\\; => \\frac{16+9}{\\lambda ^{2}} -36=0\\; => \\lambda =\\pm \\sqrt{\\frac{25}{36}} =\\pm \\frac{5}{6}}$"
   ]
  },
  {
   "cell_type": "markdown",
   "metadata": {},
   "source": [
    "$\\large\\boldsymbol{\\begin{cases}x=\\frac{4}{\\lambda }\\\\y=-\\frac{3}{\\lambda }\\end{cases} \\Rightarrow \\begin{cases}x=\\frac{4}{\\pm\\frac{5}{6}} =\\pm\\frac{24}{5}\\\\y=-\\frac{3}{\\pm\\frac{5}{6}} =\\mp\\frac{18}{5}\n",
    "\\end{cases}\\\\\n",
    "M_{1}\\left(\\frac{24}{5} ;\\ -\\frac{18}{5}\\right);\\; M_{2}\\left( -\\frac{24}{5} ;\\ \\frac{18}{5}\\right)}$"
   ]
  },
  {
   "cell_type": "markdown",
   "metadata": {},
   "source": [
    "Т.о: $\\large\\boldsymbol{U_{min} =U\\left(\\frac{24}{5} ;\\ -\\frac{18}{5}\\right) =3-8\\cdot \\frac{24}{5} +6\\cdot \\left( -\\frac{18}{5}\\right) =-57;\\\\ U_{max} =U\\left( -\\frac{24}{5} ;\\ \\frac{18}{5}\\right) =3-8\\cdot \\left( -\\frac{24}{5}\\right) +6\\cdot\\frac{18}{5} =63}$"
   ]
  },
  {
   "cell_type": "markdown",
   "metadata": {},
   "source": [
    "## 1.2 $U=2x^{2} +12xy+32y^{2} +15$, если $x^{2} +16y^{2} =64$"
   ]
  },
  {
   "cell_type": "markdown",
   "metadata": {},
   "source": [
    "$\\large\\boldsymbol{L^{\\prime }_{x} =\\left( 2x^{2} +12xy+32y^{2} +15+\\lambda \\cdot \\left( x^{2} +16y^{2} -64\\right)\\right) =4x+12y+2x\\lambda \\\\L^{\\prime}_{y} =\\left( 2x^{2} +12xy+32y^{2} +15+\\lambda \\cdot \\left( x^{2} +16y^{2} 64\\right)\\right) =12x+64y+32y\\lambda \\\\\\phi =x^{2} +16y^{2} -64}$"
   ]
  },
  {
   "cell_type": "markdown",
   "metadata": {},
   "source": [
    "#### Вспомогательная функция:"
   ]
  },
  {
   "cell_type": "markdown",
   "metadata": {},
   "source": [
    "$\\large\\boldsymbol{L=2x^{2} +12xy+32y^{2} +15+\\lambda \\cdot \\left( x^{2} +16y^{2} -64\\right)}$"
   ]
  },
  {
   "cell_type": "markdown",
   "metadata": {},
   "source": [
    "#### Составим систему:"
   ]
  },
  {
   "cell_type": "markdown",
   "metadata": {},
   "source": [
    "$\\large\\boldsymbol{\\begin{cases}L^{\\prime }_{x} =0\\\\L^{\\prime }_{y} =0\\\\\\phi =0\\end{cases} \\Rightarrow \\begin{cases}\n",
    "4x+12y+2x\\lambda =0\\\\12x+64y+32y\\lambda =0\\\\x^{2} +16y^{2} -64=0\\end{cases}}$"
   ]
  },
  {
   "cell_type": "markdown",
   "metadata": {},
   "source": [
    "#### Определяем стационарные точки:"
   ]
  },
  {
   "cell_type": "markdown",
   "metadata": {},
   "source": []
  },
  {
   "cell_type": "markdown",
   "metadata": {},
   "source": [
    "### 3.Найти производную функции 𝑈=𝑥2+𝑦2+𝑧2 по направлению вектора $\\vec{c}(-9,8,-12)$ в точку 𝑀(8;−12;9)."
   ]
  },
  {
   "cell_type": "markdown",
   "metadata": {},
   "source": [
    "$\\large\\boldsymbol{U_{\\vec{c}}^{\\prime}=\\left(\\vec{c}_{0} \\cdot \\operatorname{grad} U\\right)}$"
   ]
  },
  {
   "cell_type": "markdown",
   "metadata": {},
   "source": [
    "$\\large\\boldsymbol{| \\vec{C}|=\\sqrt{(-9)^{2}+8^{2}+(-12)^{2}}=\\sqrt{81+64+144}=\\sqrt{289}=17}$"
   ]
  },
  {
   "cell_type": "markdown",
   "metadata": {},
   "source": [
    "$\\large\\boldsymbol{\\overrightarrow{C_{0}}=\\frac{\\vec{c}}{|\\vec{c}|}=\\left(\\frac{-9}{17}, \\frac{8}{17}, \\frac{-12}{17}\\right)}$"
   ]
  },
  {
   "cell_type": "markdown",
   "metadata": {},
   "source": [
    "$\\large\\boldsymbol{U_{x}^{\\prime}=2 x \\quad}$\n",
    "$\\large\\boldsymbol{U_{y}^{\\prime}=2 y \\quad}$\n",
    "$\\large\\boldsymbol{U_{z}^{\\prime}=2 z}$"
   ]
  },
  {
   "cell_type": "markdown",
   "metadata": {},
   "source": [
    "$\\large\\boldsymbol{\\operatorname{grad} U=(2 x, 2 y, 2 z)}$"
   ]
  },
  {
   "cell_type": "markdown",
   "metadata": {},
   "source": [
    "$\\large\\boldsymbol{U_{\\vec{c}}^{\\prime}=\\left.\\right|_{(8,-12,9)} = 8 \\cdot 2 x+12 \\cdot 2 y+9 \\cdot 2 z=16 x-24 y+18 z}$"
   ]
  },
  {
   "cell_type": "markdown",
   "metadata": {},
   "source": [
    "### 4 Найти производную функции $U=e^{x^{2}+y^{2}+z^{2}}$ по направлению вектора $\\vec{d}=(4,-13,-16)$ в точку $L(-16 ; 4 ;-13)$."
   ]
  },
  {
   "cell_type": "markdown",
   "metadata": {},
   "source": [
    "$\\large\\boldsymbol{|\\vec{d}|=\\sqrt{4^{2}+(-13)^{2}+(-16)^{2}}=\\sqrt{441}=21\\\\ \\overrightarrow{d_{0}}=\\frac{\\vec{d}}{|\\vec{d}|}=\\left(\\frac{4}{21} ;-\\frac{13}{21} ;-\\frac{16}{21}\\right)\\\\ U_{x}^{\\prime}=\\left(e^{x^{2}}\\right)^{\\prime} \\cdot\\left(x^{2}\\right)^{\\prime}=e^{x^{2}} \\cdot 2 x\\\\ U_{y}^{\\prime}=e^{y^{2}} \\cdot 2 y\\\\ U_{z}^{\\prime}=e^{z^{2}} \\cdot 2 z \\\\ \\operatorname{grad} U=\\left(2 x e^{x^{2}}, 2 y e^{y^{2}}, 2 z ^ {z^{2}}\\right)\\\\U_{\\vec{c}}^{\\prime}\\left.\\right|_{(-16,4,-13)}=2 \\cdot(-16) \\cdot e^{16}+2 \\cdot 4 \\cdot e^{4^{2}}+2 \\cdot(-13) \\cdot e^{(-13)^{2}}=-32 \\cdot e^{256}+8 \\cdot e^{16}-26 \\cdot e^{169} }$"
   ]
  }
 ],
 "metadata": {
  "kernelspec": {
   "display_name": "Python 3",
   "language": "python",
   "name": "python3"
  },
  "language_info": {
   "codemirror_mode": {
    "name": "ipython",
    "version": 3
   },
   "file_extension": ".py",
   "mimetype": "text/x-python",
   "name": "python",
   "nbconvert_exporter": "python",
   "pygments_lexer": "ipython3",
   "version": "3.7.3"
  }
 },
 "nbformat": 4,
 "nbformat_minor": 2
}
