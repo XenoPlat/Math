{
 "cells": [
  {
   "cell_type": "markdown",
   "metadata": {},
   "source": [
    "# Введение в математический анализ\n",
    "## Домашнее задание к уроку 1"
   ]
  },
  {
   "cell_type": "markdown",
   "metadata": {},
   "source": [
    "### Тема 1. Знакомство с математическим анализом"
   ]
  },
  {
   "cell_type": "markdown",
   "metadata": {},
   "source": [
    "#### Как относятся друг к другу множество и последовательность? (в ответе использовать слова типа: часть, целое, общее, частное, родитель, дочерний субъект и т.д.)"
   ]
  },
  {
   "cell_type": "markdown",
   "metadata": {},
   "source": [
    "##### Ответ\n",
    "__Множество__ - набор элементов имеющих объединяющее свойство. <br/>\n",
    "__Последовательность__ - набор элементов множества, в котором каждому соответствует натуральное число. <br/>\n",
    "Фактически, понятие множество входит в понятие последовательность.\n"
   ]
  },
  {
   "cell_type": "markdown",
   "metadata": {},
   "source": [
    "#### Прочитать высказывания математической логики, построить их отрицания и установить истинность.\n",
    "$\\forall y\\in [0;1]: sgn(y) = 1$<br/>\n",
    "Для любого y в промежутке от нуля до единицы включая крайние точки справидливо, что сигнум этого y равен единице.\n",
    "_Утверждение неверно. Сигнум в нуле равняется нулю_\n",
    "\n",
    "$\\forall n\\in \\mathbb{N}>2:\\exists x,y,z \\in \\mathbb{N}: x^n = y^n + z^n$<br/>\n",
    "Для любого n принадлежащих множеству натуральных чисел и менше двух справедливо, что найдутся такие x,y,z принадлежащие множеству натуральных чисел, для которых справедливо равенство: $x^n = y^n + z^n$\n",
    "\n",
    "$\\forall x\\in \\mathbb{R}\\exists X \\in \\mathbb{R}:X>x$<br/>\n",
    "Для любого x принадлежащего множеству вещественных чисел, найдется такой элемент X принадлежащий множеству вещественных чисел, что он будет больше х\n",
    "\n",
    "$\\forall x\\in \\mathbb{C}\\exists y \\in \\mathbb{C} : x>y\\parallel x<y $<br/>\n",
    "Для любого `x` принадлежащего множеству комплексных чисел найдется такой `y` принадлежащий множеству комплексных чисел что $x > y$\n",
    "\n",
    "$\\forall y \\in [0;\\frac{\\pi }{2}] \\exists \\varepsilon >0 : \\sin y < \\sin (y + \\varepsilon )$<br/>\n",
    "Для любого `y` лежащего на промежутке $[0;\\frac{\\pi }{2}]$ включая крайние точки найдется такой положительный $\\varepsilon$, что $\\sin y < \\sin (y + \\varepsilon )$ <br/>\n",
    "_Утверждение неверно. При $y=\\frac{\\pi}{2}$ будет $\\sin y > \\sin (y + \\varepsilon )$_\n",
    "\n",
    "$\\forall y \\in [0;\\pi) \\exists \\varepsilon >0 : \\cos y > \\cos(y+ \\varepsilon )$<br/>\n",
    "Для любого `y` лежащего на промежутке $[0;\\pi)$ не включая правую точку найдется такой положительный $\\varepsilon$, что $\\cos y > \\cos(y+ \\varepsilon )$\n",
    "\n",
    "$\\exists x : x \\notin \\{\\mathbb{N},\\mathbb{Z},\\mathbb{Q},\\mathbb{R},\\mathbb{C}\\}$<br/>\n",
    "Существует такой `x`, который не принадлежит ни ко множеству натуральных, ни целых, ни рациональных, ни вещественных, ни комплексных чисел"
   ]
  },
  {
   "cell_type": "markdown",
   "metadata": {},
   "source": [
    "### Тема 2. Множество\n",
    "#### Задание 1 \n",
    "Даны три множества `a`,`b` и `с`. Необходимо выполнить все изученные виды бинарных операций над всеми комбинациями множеств."
   ]
  },
  {
   "cell_type": "markdown",
   "metadata": {},
   "source": [
    "##### Ответ\n",
    "Пересечение множеств: <br/>\n",
    "$a \\cap b \\cap c = \\{x \\mid x \\in a \\ \\& \\ x \\in b \\ \\& \\ x \\in c \\}$\n",
    "\n",
    "Объединение множеств: <br/>\n",
    "$a \\cup b \\cup c = \\{x \\mid x \\in a \\ || \\ x \\in b \\ || \\ x \\in c \\}$ <br/>\n",
    "$|a \\cup b \\cup c| = |a| + |b| + |c| - |a \\cap b| - |b \\cap c| - |a \\cap c| + |a \\cap b \\cap c|$"
   ]
  },
  {
   "cell_type": "markdown",
   "metadata": {},
   "source": [
    "Разность: <br/>\n",
    "$ a \\setminus b \\setminus c = \\{ x \\mid x \\in a \\ \\& \\ x \\notin b \\ \\& \\ x \\notin c \\}$\n",
    "\n",
    "Симметрическая разность: <br/>\n",
    "$ a \\bigtriangleup b \\bigtriangleup c = \\{ x \\mid x \\in a \\bigoplus x \\in b \\bigoplus x \\in c \\}$ <br/>\n",
    "$ |a \\bigtriangleup b \\bigtriangleup c| = |a| + |b| + |c| - 2|a \\cap b| - 2|b \\cap c| - 2|a \\cap c| + 3|a \\cap b \\cap c|$\n"
   ]
  },
  {
   "cell_type": "markdown",
   "metadata": {},
   "source": [
    "Декартово произведение: <br/>\n",
    "$ a \\times b \\times c = |a| \\cdot |b| \\cdot |c|$"
   ]
  },
  {
   "cell_type": "markdown",
   "metadata": {},
   "source": [
    "#### Задание 2 \n",
    "Выполнить задание 1 на языке Python\n",
    "##### Решение:"
   ]
  },
  {
   "cell_type": "code",
   "execution_count": 3,
   "metadata": {},
   "outputs": [],
   "source": [
    "a = set([1, 2, 3, 4])\n",
    "b = set([3, 4, 5, 6])\n",
    "c = set([6, 7, 2, 4])"
   ]
  },
  {
   "cell_type": "markdown",
   "metadata": {},
   "source": [
    "Пересечение множеств:"
   ]
  },
  {
   "cell_type": "code",
   "execution_count": 4,
   "metadata": {},
   "outputs": [
    {
     "data": {
      "text/plain": [
       "{1, 2, 3, 4, 5, 6, 7}"
      ]
     },
     "execution_count": 4,
     "metadata": {},
     "output_type": "execute_result"
    }
   ],
   "source": [
    "set.union(a, b, c)"
   ]
  },
  {
   "cell_type": "markdown",
   "metadata": {},
   "source": [
    "Объединение множеств:"
   ]
  },
  {
   "cell_type": "code",
   "execution_count": 6,
   "metadata": {},
   "outputs": [
    {
     "data": {
      "text/plain": [
       "{4}"
      ]
     },
     "execution_count": 6,
     "metadata": {},
     "output_type": "execute_result"
    }
   ],
   "source": [
    "set.intersection(a, b, c)"
   ]
  },
  {
   "cell_type": "markdown",
   "metadata": {},
   "source": [
    "Разность:"
   ]
  },
  {
   "cell_type": "code",
   "execution_count": 8,
   "metadata": {},
   "outputs": [
    {
     "data": {
      "text/plain": [
       "{1}"
      ]
     },
     "execution_count": 8,
     "metadata": {},
     "output_type": "execute_result"
    }
   ],
   "source": [
    " a.difference(b).difference(c)"
   ]
  },
  {
   "cell_type": "markdown",
   "metadata": {},
   "source": [
    "Симметрическая разность:"
   ]
  },
  {
   "cell_type": "code",
   "execution_count": 15,
   "metadata": {},
   "outputs": [
    {
     "data": {
      "text/plain": [
       "{1, 5, 7}"
      ]
     },
     "execution_count": 15,
     "metadata": {},
     "output_type": "execute_result"
    }
   ],
   "source": [
    "set.union(\n",
    "     a.difference(b).difference(c),\n",
    "     b.difference(c).difference(a),\n",
    "     c.difference(a).difference(b)\n",
    ")"
   ]
  },
  {
   "cell_type": "markdown",
   "metadata": {},
   "source": [
    "Декартово произведение:\n",
    "\n",
    "__Вот тут я не  смог понять__"
   ]
  },
  {
   "cell_type": "markdown",
   "metadata": {},
   "source": [
    "### Тема 3. Последовательность\n",
    "#### Задание 3\n",
    "Даны 4 последовательности: <br/>\n",
    "$\\{a_n\\}^\\infty_{n=1} = 2^n -n$ <br/>\n",
    "$\\{b_n\\}^\\infty_{n=2} = \\frac{1}{1-n}$ <br/>\n",
    "$\\{c_n\\}^\\infty_{n=1} = -1^n + \\sqrt{2n}$ <br/>\n",
    "$\\{d_n\\}^\\infty_{n=1} = (-1)^{2n} + \\frac{1}{n^2}$ <br/>\n",
    "Необходимо: <br/>\n",
    "1. исследовать их на монотонность; \n",
    "2. исследовать на ограниченность;\n",
    "3. найти пятый по счету член."
   ]
  },
  {
   "cell_type": "markdown",
   "metadata": {},
   "source": [
    "##### Решение:"
   ]
  },
  {
   "cell_type": "markdown",
   "metadata": {},
   "source": [
    "__a)__ $\\{a_n\\}^\\infty_{n=1} = 2^n -n$\n",
    "\n",
    "Для определения монотонности иследуем разность $a_n - a_{n+1}$: <br/>\n",
    "$a_n - a_{n+1} = 2^n -n - 2^{n+1} +n + 1 = 2^n(1 - 2) +1 = 1 - 2^n < 0, \\forall n \\in \\mathbb{N} => a_n < a_{n+1}$ <br/>\n",
    "Следовательно, последовательность является __монотонно возрастающей__\n",
    "\n",
    "Исследуем ограниченность: <br/>\n",
    "$\\lim_{n \\to \\infty } 2^n -n \\to \\infty $, значит __последовательность неограниченна__\n",
    "\n",
    "$a_5 = 2^5 - 5 = 27$"
   ]
  },
  {
   "cell_type": "markdown",
   "metadata": {},
   "source": [
    "__b)__ $\\{b_n\\}^\\infty_{n=2} = \\frac{1}{1-n}$\n",
    "\n",
    "Для определения монотонности иследуем разность $b_n - b_{n+1}$: <br/>\n",
    "$b_n - b_{n+1} = \\frac{1}{1-n} - \\frac{1}{1-n + 1} = \\frac{1}{1-n} - \\frac{1}{-n} = \\frac{-n\\ -\\ (1-n)}{(1-n)(-n)} = - \\frac{1}{n^2 -n} < 0, \\forall n \\in \\mathbb{N} => b_n < b_{n+1}$ <br/>\n",
    "Следовательно, последовательность является __монотонно возрастающей__\n",
    "\n",
    "Исследуем ограниченность: <br/>\n",
    "$\\lim_{n \\to \\infty } \\frac{1}{1-n} \\to 0$, значит __последовательность ограниченна__\n",
    "\n",
    "$b_5 = \\frac{1}{1-5} = - \\frac{1}{4}$"
   ]
  },
  {
   "cell_type": "markdown",
   "metadata": {},
   "source": [
    "__c)__ $\\{c_n\\}^\\infty_{n=1} = -1^n + \\sqrt{2n}$\n",
    "\n",
    "Для определения монотонности иследуем разность $с_n - с_{n+1}$: <br/>\n",
    "$c_n - c_{n+1} = -1^n + \\sqrt{2n} - (-1)^{n+1} - \\sqrt{2(n+1)} = \\sqrt{2}(\\sqrt{n}-\\sqrt{n+1}) < 0 , \\forall n \\in \\mathbb{N} => c_n < c_{n+1}$ <br/>\n",
    "Следовательно, последовательность является __монотонно возрастающей__\n",
    "\n",
    "Исследуем ограниченность: <br/>\n",
    "$\\lim_{n \\to \\infty } -1^n + \\sqrt{2n} = \\lim_{n \\to \\infty } \\sqrt{2n} -1 \\to \\infty$ , значит __последовательность неограниченна__\n",
    "\n",
    "$c_5 = -1 + \\sqrt{2\\cdot5} = \\sqrt{10} -1 \\approx 2.162$"
   ]
  },
  {
   "cell_type": "markdown",
   "metadata": {},
   "source": [
    "__d)__ $\\{d_n\\}^\\infty_{n=1} = (-1)^{2n} + \\frac{1}{n^2}$ <br/>\n",
    "\n",
    "Для определения монотонности иследуем разность $d_n - d_{n+1}$: <br/>\n",
    "$d_n - d_{n+1} = (-1)^{2n} + \\frac1{n^2} - (-1)^{2(n+1)} + \\frac1{(n+1)^2} = \\frac{1}{n^2} - \\frac{1}{(n+1)^2} > 0, \\forall n \\in \\mathbb{N} => d_n > d_{n+1}$ <br/>\n",
    "Следовательно, последовательность является __монотонно убывающей__\n",
    "\n",
    "Исследуем ограниченность: <br/>\n",
    "$\\lim_{n \\to \\infty } (-1)^{2n} + \\frac{1}{n^2} = \\pm1$, то есть, имеем ограничение и сверху и снизу, значит __последовательность ограниченна__\n",
    "\n",
    "$d_5 = (-1)^{2\\cdot5} + \\frac{1}{5^2} = 1 + \\frac{1}{25} = 1.04$"
   ]
  },
  {
   "cell_type": "markdown",
   "metadata": {},
   "source": [
    "#### Задание 4\n",
    "$a_1 = 128 , a_{n+1} - a_n = 6$ <br/>\n",
    "найти 12-й член заданной неявно последовательности"
   ]
  },
  {
   "cell_type": "markdown",
   "metadata": {},
   "source": [
    "##### Решение:\n",
    "Перед нами последовательность арифметической прогрессии. <br/>\n",
    "Последовательность вида $a_1, a_1 + b, a_1 + 2b, a_1 + 3b,...$, где $b = a_{n-1} - a_n = 6$ <br/>\n",
    "\n",
    "Для нахождения n-ного члена арифметической прогрессии воспользуемся формулой:\n",
    "$$ a_n = a_1 + (n-1)b $$\n",
    "И получаем $a_{12} = a_1 - 11b = 128 - 66 = 62$"
   ]
  },
  {
   "cell_type": "markdown",
   "metadata": {},
   "source": [
    "#### Задание 5\n",
    "На языке Python предложить алгоритм вычисляющий численно предел <br/>\n",
    "$\\lim_{x \\to \\infty } \\frac{n}{\\sqrt[n]{n!}}$ <br/>\n",
    "с точностью $\\varepsilon  = 10^{-7}$"
   ]
  },
  {
   "cell_type": "code",
   "execution_count": 66,
   "metadata": {},
   "outputs": [],
   "source": [
    "import numpy as np\n",
    "from itertools import count"
   ]
  },
  {
   "cell_type": "code",
   "execution_count": 128,
   "metadata": {},
   "outputs": [
    {
     "name": "stdout",
     "output_type": "stream",
     "text": [
      "2.716988423724237 11779\n"
     ]
    }
   ],
   "source": [
    "eps = 10**(-7)\n",
    "\n",
    "#Функция лимита\n",
    "lim_func = lambda n : n * np.prod(np.power(np.arange(2,n+1), -1/n))\n",
    "lim_n_prev = 1\n",
    "\n",
    "for n in count(start=2, step=1):\n",
    "    lim_n = lim_func(n)\n",
    "    if (lim_n - lim_n_prev) <= eps:\n",
    "        print(lim_n, n)\n",
    "        break\n",
    "    else:\n",
    "        lim_n_prev = lim_n"
   ]
  },
  {
   "cell_type": "markdown",
   "metadata": {},
   "source": [
    "Получается что предел сходится к экспоненте, и точность $\\varepsilon$ достигается на $11779$-ом элементе"
   ]
  },
  {
   "cell_type": "markdown",
   "metadata": {},
   "source": [
    "#### Задание 6 \n",
    "Предложить оптимизацию алгоритма, полученного в задании 5, ускоряющую его сходимость."
   ]
  },
  {
   "cell_type": "code",
   "execution_count": null,
   "metadata": {},
   "outputs": [],
   "source": []
  }
 ],
 "metadata": {
  "kernelspec": {
   "display_name": "Python 3",
   "language": "python",
   "name": "python3"
  },
  "language_info": {
   "codemirror_mode": {
    "name": "ipython",
    "version": 3
   },
   "file_extension": ".py",
   "mimetype": "text/x-python",
   "name": "python",
   "nbconvert_exporter": "python",
   "pygments_lexer": "ipython3",
   "version": "3.7.1"
  }
 },
 "nbformat": 4,
 "nbformat_minor": 2
}
