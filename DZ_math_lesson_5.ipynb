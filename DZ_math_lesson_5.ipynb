{
 "cells": [
  {
   "cell_type": "code",
   "execution_count": 1,
   "metadata": {},
   "outputs": [],
   "source": [
    "import numpy as np\n",
    "import math\n",
    "import matplotlib.pyplot as plt\n",
    "from mpl_toolkits.mplot3d import Axes3D\n",
    "from pylab import *\n",
    "from scipy import linalg\n",
    "from scipy.optimize import *\n",
    "import itertools\n",
    "from math import factorial\n",
    "\n",
    "import warnings\n",
    "warnings.filterwarnings('ignore')\n",
    "\n",
    "%matplotlib inline"
   ]
  },
  {
   "cell_type": "markdown",
   "metadata": {},
   "source": [
    "##### 1. Напишите код, моделирующий выпадение поля в рулетке (с учетом поля зеро)"
   ]
  },
  {
   "cell_type": "code",
   "execution_count": 2,
   "metadata": {},
   "outputs": [
    {
     "name": "stdout",
     "output_type": "stream",
     "text": [
      "Число попыток: 5\n",
      "3 Black\n",
      "28 Red\n",
      "30 Red\n",
      "3 Black\n",
      "29 Black\n"
     ]
    }
   ],
   "source": [
    "n = int(input('Число попыток: '))\n",
    "for i in range(n):\n",
    "        a = np.random.randint(0, 38)\n",
    "        print (a, 'Zero' if a == 0 else 'Red' if a %2 == 0 else 'Black')\n",
    "        i += 1"
   ]
  },
  {
   "cell_type": "markdown",
   "metadata": {},
   "source": [
    "##### 2.1. Напишите код, проверяющий любую из теорем сложения или умножения вероятности на примере рулетки или подбрасывания монетки"
   ]
  },
  {
   "cell_type": "code",
   "execution_count": 3,
   "metadata": {},
   "outputs": [
    {
     "name": "stdout",
     "output_type": "stream",
     "text": [
      "505 495\n",
      "1.0\n"
     ]
    }
   ],
   "source": [
    "k, m = 0, 0\n",
    "n = 1000\n",
    "for i in range(n):\n",
    "    x = np.random.uniform(0, 101)\n",
    "    if x <= 50:\n",
    "        k += 1\n",
    "    else:\n",
    "        m += 1\n",
    "print(k, m)\n",
    "print(k/n + m/n)"
   ]
  },
  {
   "cell_type": "markdown",
   "metadata": {},
   "source": [
    "##### 2.2. Сгенерируйте десять выборок случайных чисел х0, …, х9 и постройте гистограмму распределения случайной суммы х0+х1+ …+ х9."
   ]
  },
  {
   "cell_type": "code",
   "execution_count": 4,
   "metadata": {},
   "outputs": [
    {
     "data": {
      "image/png": "[encoded data removed]",
      "text/plain": [
       "<Figure size 432x288 with 1 Axes>"
      ]
     },
     "metadata": {
      "needs_background": "light"
     },
     "output_type": "display_data"
    }
   ],
   "source": [
    "sum_ = []\n",
    "array_ = [0 for i in range(0, 1000)]\n",
    "for i in range(0, 9):\n",
    "    x = np.random.rand(1000)\n",
    "    sum_.append(x)\n",
    "\n",
    "for i in sum_:\n",
    "        array_ = array_ + i\n",
    "\n",
    "num_bins = 10\n",
    "plt.hist(array_, num_bins)\n",
    "plt.show()"
   ]
  },
  {
   "cell_type": "markdown",
   "metadata": {},
   "source": [
    "#### 3.1 Дополните код Монте-Карло последовательности независимых испытаний расчетом соответствующих вероятностей (через биномиальное распределение) и сравните результаты."
   ]
  },
  {
   "cell_type": "code",
   "execution_count": 5,
   "metadata": {},
   "outputs": [
    {
     "name": "stdout",
     "output_type": "stream",
     "text": [
      "3762 10000 0.3762\n",
      "Pn(k) =  0.375\n"
     ]
    }
   ],
   "source": [
    "k, n = 0,10000\n",
    "a = np.random.randint(0,2, n)\n",
    "b = np.random.randint(0,2, n)\n",
    "c = np.random.randint(0,2, n)\n",
    "d = np.random.randint(0,2, n)\n",
    "x = a + b + c + d\n",
    "\n",
    "for i in range(0,n):\n",
    "    if x[i] == 2:\n",
    "        k = k + 1\n",
    "\n",
    "print(k, n, k/n)\n",
    "Cn_k = factorial(4)/ (factorial(2)*factorial(4-2))\n",
    "Pn_k = Cn_k * (1/2**4)\n",
    "print(\"Pn(k) = \",Pn_k)"
   ]
  },
  {
   "cell_type": "markdown",
   "metadata": {},
   "source": [
    "#### 3.2 Повторите расчеты биномиальных коэффициентов и вероятностей k успехов в последовательности из n независимых испытаний, взяв другие значения n и k."
   ]
  },
  {
   "cell_type": "code",
   "execution_count": 6,
   "metadata": {},
   "outputs": [
    {
     "name": "stdout",
     "output_type": "stream",
     "text": [
      "3101 10000 0.3101\n",
      "Pn(k) =  0.3125\n"
     ]
    }
   ],
   "source": [
    "k, n = 0,10000\n",
    "a = np.random.randint(0,2, n)\n",
    "b = np.random.randint(0,2, n)\n",
    "c = np.random.randint(0,2, n)\n",
    "d = np.random.randint(0,2, n)\n",
    "e = np.random.randint(0,2, n)\n",
    "x = a + b + c + d + e\n",
    "\n",
    "for i in range(0,n):\n",
    "    if x[i] == 2:\n",
    "        k = k + 1\n",
    "\n",
    "print(k, n, k/n)\n",
    "Cn_k = factorial(5)/ (factorial(2)*factorial(5-2))\n",
    "Pn_k = Cn_k * (1/2**5)\n",
    "print(\"Pn(k) = \",Pn_k)"
   ]
  },
  {
   "cell_type": "markdown",
   "metadata": {},
   "source": [
    "#### 4. Из урока по комбинаторике повторите расчеты, сгенерировав возможные варианты перестановок для других значений n и k"
   ]
  },
  {
   "cell_type": "code",
   "execution_count": 7,
   "metadata": {},
   "outputs": [
    {
     "name": "stdout",
     "output_type": "stream",
     "text": [
      "012\n",
      "013\n",
      "021\n",
      "023\n",
      "031\n",
      "032\n",
      "102\n",
      "103\n",
      "120\n",
      "123\n",
      "130\n",
      "132\n",
      "201\n",
      "203\n",
      "210\n",
      "213\n",
      "230\n",
      "231\n",
      "301\n",
      "302\n",
      "310\n",
      "312\n",
      "320\n",
      "321\n"
     ]
    }
   ],
   "source": [
    "x1, y1 = '0123', 3\n",
    "x2, y2 = '45678', 4\n",
    "x3, y3 = '901234', 5\n",
    "x4, y4 = '5678901', 6\n",
    "for p in itertools.permutations(x1, y1):\n",
    "    print(''.join(str(x) for x in p))"
   ]
  },
  {
   "cell_type": "markdown",
   "metadata": {},
   "source": [
    "#### 5. Дополните код расчетом коэффициента корреляции x и y по формуле"
   ]
  },
  {
   "cell_type": "code",
   "execution_count": null,
   "metadata": {},
   "outputs": [],
   "source": []
  }
 ],
 "metadata": {
  "kernelspec": {
   "display_name": "Python 3",
   "language": "python",
   "name": "python3"
  },
  "language_info": {
   "codemirror_mode": {
    "name": "ipython",
    "version": 3
   },
   "file_extension": ".py",
   "mimetype": "text/x-python",
   "name": "python",
   "nbconvert_exporter": "python",
   "pygments_lexer": "ipython3",
   "version": "3.7.3"
  }
 },
 "nbformat": 4,
 "nbformat_minor": 2
}
