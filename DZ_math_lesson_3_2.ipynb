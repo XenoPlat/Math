{
 "cells": [
  {
   "cell_type": "code",
   "execution_count": 1,
   "metadata": {},
   "outputs": [],
   "source": [
    "import numpy as np\n",
    "import math\n",
    "import matplotlib.pyplot as plt\n",
    "from mpl_toolkits.mplot3d import Axes3D\n",
    "from pylab import *\n",
    "from scipy import linalg\n",
    "from scipy.optimize import *\n",
    "\n",
    "import warnings\n",
    "warnings.filterwarnings('ignore')\n",
    "\n",
    "%matplotlib inline"
   ]
  },
  {
   "cell_type": "markdown",
   "metadata": {},
   "source": [
    "### Задание 3"
   ]
  },
  {
   "cell_type": "markdown",
   "metadata": {},
   "source": [
    "##### 1. Нарисуйте график функции:\n",
    "y(x) = k∙cos(x – a) + b для некоторых (2-3 различных) значений параметров k, a, b"
   ]
  },
  {
   "cell_type": "code",
   "execution_count": 2,
   "metadata": {},
   "outputs": [
    {
     "data": {
      "image/png": "[encoded data removed]",
      "text/plain": [
       "<Figure size 432x288 with 1 Axes>"
      ]
     },
     "metadata": {
      "needs_background": "light"
     },
     "output_type": "display_data"
    }
   ],
   "source": [
    "x = np.linspace(-np.pi, np.pi, 101)\n",
    "k = 1\n",
    "a = 2\n",
    "b = 3\n",
    "k1 = 2\n",
    "a1 = 3\n",
    "b1 = 4\n",
    "k2 = 3\n",
    "a2 = 4\n",
    "b2 = 5\n",
    "plt.plot(x, k*np.cos(x-a)+b)\n",
    "plt.plot(x, k1*np.cos(x-a1)+b1)\n",
    "plt.plot(x, k2*np.cos(x-a2)+b2)\n",
    "plt.xlabel('x')\n",
    "plt.ylabel('y')\n",
    "plt.grid('True')\n",
    "plt.show()"
   ]
  },
  {
   "cell_type": "markdown",
   "metadata": {},
   "source": [
    "##### 2. Докажите, что при ортогональном преобразовании сохраняется расстояние между точками."
   ]
  },
  {
   "cell_type": "markdown",
   "metadata": {},
   "source": [
    "Пусть координатами точки a на плоскости будут (x1, y1), координатами точки b (x2, y2). Пусть координатами тех же точек после ортогонального преобразования будут (X1, Y1) и (X2, Y2) соответсвенно. Допустим, что при ортогональном преобразовании произошло сжатие или расширение плоскости вдоль осей X и Y и расстояние между точками a и b либо уменьшилось, либо увеличилось. Т.о., длина вектора (a,b) в системе (x,y) должна отличаться от длины вектора (a,b) в системе (X, Y)."
   ]
  },
  {
   "cell_type": "markdown",
   "metadata": {},
   "source": [
    "Зададим координаты точек a и b в системе (x, y)"
   ]
  },
  {
   "cell_type": "code",
   "execution_count": 3,
   "metadata": {},
   "outputs": [],
   "source": [
    "x1, y1, x2, y2 = 2, 5, 4, 10"
   ]
  },
  {
   "cell_type": "markdown",
   "metadata": {},
   "source": [
    "Произведем ортогональное преобразование, задав коэффициенты a11, a12, a13 для получения X1 и X2 из x1 и x2 соответственно и коэффициенты a21, a22, a23 для получения Y1 и Y2 из y1 и y2 соотвественно"
   ]
  },
  {
   "cell_type": "code",
   "execution_count": 4,
   "metadata": {},
   "outputs": [],
   "source": [
    "a11, a12, a13, a21, a22, a23 = 0, 1, 4, 1, 0, 6"
   ]
  },
  {
   "cell_type": "code",
   "execution_count": 5,
   "metadata": {},
   "outputs": [],
   "source": [
    "X1, Y1, X2, Y2 = (a11*x1 + a12*y1 + a13), (a21*x1 + a22*y1 + a23), (a11*x2 + a12*y2 + a13), (a21*x2 + a22*y2 + a23)"
   ]
  },
  {
   "cell_type": "markdown",
   "metadata": {},
   "source": [
    "Проверим, что преобразование ортогонально:"
   ]
  },
  {
   "cell_type": "code",
   "execution_count": 6,
   "metadata": {},
   "outputs": [
    {
     "name": "stdout",
     "output_type": "stream",
     "text": [
      "True\n",
      "True\n",
      "True\n"
     ]
    }
   ],
   "source": [
    "print(a11**2 + a21**2 == 1)\n",
    "print(a12**2 + a22**2 == 1)\n",
    "print(a11*a12 + a21*a22 == 0)"
   ]
  },
  {
   "cell_type": "markdown",
   "metadata": {},
   "source": [
    "Найдем длину исходного вектора и длину вектора после преобразования:"
   ]
  },
  {
   "cell_type": "code",
   "execution_count": 7,
   "metadata": {},
   "outputs": [],
   "source": [
    "a = np.array([x1,y1])\n",
    "b = np.array([x2,y2])\n",
    "c = b - a\n",
    "length_c = np.sqrt([c[0]**2+c[1]**2])\n",
    "\n",
    "A = np.array([X1,Y1])\n",
    "B = np.array([X2,Y2])\n",
    "C = B - A\n",
    "length_C = np.sqrt([C[0]**2+C[1]**2])"
   ]
  },
  {
   "cell_type": "markdown",
   "metadata": {},
   "source": [
    "Проверим что длины векторов не равны:"
   ]
  },
  {
   "cell_type": "code",
   "execution_count": 8,
   "metadata": {},
   "outputs": [
    {
     "name": "stdout",
     "output_type": "stream",
     "text": [
      "[False]\n"
     ]
    }
   ],
   "source": [
    "print(length_c != length_C)"
   ]
  },
  {
   "cell_type": "markdown",
   "metadata": {},
   "source": [
    "Т.о., наше допущение оказалось неверным. Посмотрим, равны ли длины векторов:"
   ]
  },
  {
   "cell_type": "code",
   "execution_count": 9,
   "metadata": {},
   "outputs": [
    {
     "name": "stdout",
     "output_type": "stream",
     "text": [
      "[ True]\n"
     ]
    }
   ],
   "source": [
    "print(length_c == length_C)"
   ]
  },
  {
   "cell_type": "markdown",
   "metadata": {},
   "source": [
    "Вывод: при ортогональном преобразовании сохраняется расстояние между точками."
   ]
  },
  {
   "cell_type": "markdown",
   "metadata": {},
   "source": [
    "##### 3. Напишите код:"
   ]
  },
  {
   "cell_type": "markdown",
   "metadata": {},
   "source": [
    "- который будет переводить полярные координаты в декартовы"
   ]
  },
  {
   "cell_type": "markdown",
   "metadata": {},
   "source": [
    "Зададим полярные координаты:"
   ]
  },
  {
   "cell_type": "code",
   "execution_count": 10,
   "metadata": {},
   "outputs": [],
   "source": [
    "a = np.pi/3\n",
    "R = 5"
   ]
  },
  {
   "cell_type": "markdown",
   "metadata": {},
   "source": [
    "Преобразуем в декартовы координаты:"
   ]
  },
  {
   "cell_type": "code",
   "execution_count": 11,
   "metadata": {},
   "outputs": [
    {
     "data": {
      "text/plain": [
       "(4.99, 0.09)"
      ]
     },
     "execution_count": 11,
     "metadata": {},
     "output_type": "execute_result"
    }
   ],
   "source": [
    "x = int(R*np.cos(math.radians(a))*100)/100\n",
    "y = int(R*np.sin(math.radians(a))*100)/100\n",
    "x, y"
   ]
  },
  {
   "cell_type": "markdown",
   "metadata": {},
   "source": [
    "- который будет рисовать график окружности в полярных координатах"
   ]
  },
  {
   "cell_type": "code",
   "execution_count": 12,
   "metadata": {},
   "outputs": [
    {
     "data": {
      "image/png": "[encoded data removed]",
      "text/plain": [
       "<Figure size 432x288 with 1 Axes>"
      ]
     },
     "metadata": {
      "needs_background": "light"
     },
     "output_type": "display_data"
    }
   ],
   "source": [
    "r = np.linspace(0, 2*np.pi, 1001)\n",
    "\n",
    "for a in r:\n",
    "    plt.polar(a, R, '.', color = 'red') \n",
    "\n",
    "plt.axes().set_aspect('equal')\n",
    "plt.show()"
   ]
  },
  {
   "cell_type": "markdown",
   "metadata": {},
   "source": [
    "- который будет рисовать график отрезка прямой линии в полярных координатах"
   ]
  },
  {
   "cell_type": "code",
   "execution_count": 35,
   "metadata": {},
   "outputs": [
    {
     "data": {
      "image/png": "[encoded data removed]",
      "text/plain": [
       "<Figure size 432x288 with 1 Axes>"
      ]
     },
     "metadata": {
      "needs_background": "light"
     },
     "output_type": "display_data"
    }
   ],
   "source": [
    "a = 180\n",
    "r = np.linspace(0, 2*np.pi, 201)                    \n",
    "\n",
    "plt.plot(r*np.sin(a), r*np.cos(a))\n",
    "plt.axes().set_aspect('equal')\n",
    "plt.grid(True)\n",
    "plt.show()"
   ]
  },
  {
   "cell_type": "markdown",
   "metadata": {},
   "source": [
    "##### 4. Задание: "
   ]
  },
  {
   "cell_type": "markdown",
   "metadata": {},
   "source": [
    "1) Решите систему уравнений:\n",
    "\n",
    "y = x^2 – 1\n",
    "\n",
    "exp(x) + x∙(1 – y) = 1"
   ]
  },
  {
   "cell_type": "code",
   "execution_count": 14,
   "metadata": {},
   "outputs": [
    {
     "name": "stdout",
     "output_type": "stream",
     "text": [
      "x = 1.0812694402316097e-13   y = -0.999999999999867\n"
     ]
    }
   ],
   "source": [
    "def myFunction(z):\n",
    "   x = z[0]\n",
    "   y = z[1]\n",
    "   \n",
    "   F = np.empty((2))\n",
    "   F[0] = x**2-y-1\n",
    "   F[1] = exp(x)+x*(1-y)-1\n",
    "   \n",
    "   return F\n",
    "\n",
    "zGuess = np.array([1,1])\n",
    "z = fsolve(myFunction,zGuess)\n",
    "print('x =', z[0],' ', 'y =', z[1])"
   ]
  },
  {
   "cell_type": "markdown",
   "metadata": {},
   "source": [
    "2) Решите систему уравнений и неравенств:\n",
    "\n",
    "y = x^2 – 1\n",
    "\n",
    "exp(x) + x∙(1 – y) > 1"
   ]
  },
  {
   "cell_type": "code",
   "execution_count": 15,
   "metadata": {},
   "outputs": [
    {
     "name": "stdout",
     "output_type": "stream",
     "text": [
      "x = 0.03316017875619968   y = -0.998900402545825\n"
     ]
    }
   ],
   "source": [
    "def myFunction(z):\n",
    "   x = z[0]\n",
    "   y = z[1]\n",
    "   \n",
    "   F = np.empty((2))\n",
    "   F[0] = x**2-y-1\n",
    "   F[1] = exp(x)+x*(1-y)-1.1\n",
    "   \n",
    "   return F\n",
    "\n",
    "zGuess = np.array([1,1])\n",
    "z = fsolve(myFunction,zGuess)\n",
    "print('x =', z[0],' ', 'y =', z[1])"
   ]
  }
 ],
 "metadata": {
  "kernelspec": {
   "display_name": "Python 3",
   "language": "python",
   "name": "python3"
  },
  "language_info": {
   "codemirror_mode": {
    "name": "ipython",
    "version": 3
   },
   "file_extension": ".py",
   "mimetype": "text/x-python",
   "name": "python",
   "nbconvert_exporter": "python",
   "pygments_lexer": "ipython3",
   "version": "3.7.3"
  }
 },
 "nbformat": 4,
 "nbformat_minor": 2
}
