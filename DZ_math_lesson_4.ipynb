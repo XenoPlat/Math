{
 "cells": [
  {
   "cell_type": "code",
   "execution_count": 1,
   "metadata": {},
   "outputs": [],
   "source": [
    "import numpy as np\n",
    "import math\n",
    "import matplotlib.pyplot as plt\n",
    "from mpl_toolkits.mplot3d import Axes3D\n",
    "from pylab import *\n",
    "from scipy import linalg\n",
    "from scipy.optimize import *\n",
    "\n",
    "import warnings\n",
    "warnings.filterwarnings('ignore')\n",
    "\n",
    "%matplotlib inline"
   ]
  },
  {
   "cell_type": "markdown",
   "metadata": {},
   "source": [
    "### 1. Задание (на листочке)\n",
    "Решите уравнение \n",
    "sin(x)/x=0."
   ]
  },
  {
   "cell_type": "markdown",
   "metadata": {},
   "source": [
    "Преобразуем уравнение в следующий вид: x*sin(x) = 0. Отсюда x = n*pi, где n - целое число и не равно 0."
   ]
  },
  {
   "cell_type": "markdown",
   "metadata": {},
   "source": [
    "### 2. Задание (на листочке)\n",
    "Даны три прямые y=k1*x+b1, y=k2*x+b2,, y=k3*x+b3. Как узнать, пересекаются они в одной точке или нет?"
   ]
  },
  {
   "cell_type": "markdown",
   "metadata": {},
   "source": [
    "Преобразуем уравнения в систему: k1x-y+b1=0; k2x-y+b2=0; k3x-y+b3=0. Решением данной системы уравнений будет точка М0 с координатами (x, y), которые при заданных коэффициентах k и b также позвалят решить приведенные уравнения. При поиске решения необходимо также убедиться, что прямые не являются параллельными. "
   ]
  },
  {
   "cell_type": "markdown",
   "metadata": {},
   "source": [
    "### 3. Задание (в программе или на листочке)\n",
    "На листе тетради «в линейку» (расстояние между линиями равно а) лежит игла (длиной b). Координаты нижней точки иглы (х,у), игла лежит под углом alfa. Пересекает ли игла линию или нет?\n"
   ]
  },
  {
   "cell_type": "markdown",
   "metadata": {},
   "source": [
    "Если y%a(получаем остаток от деления) - b*sin(alfa) >=a, то игла пересекает линию"
   ]
  }
 ],
 "metadata": {
  "kernelspec": {
   "display_name": "Python 3",
   "language": "python",
   "name": "python3"
  },
  "language_info": {
   "codemirror_mode": {
    "name": "ipython",
    "version": 3
   },
   "file_extension": ".py",
   "mimetype": "text/x-python",
   "name": "python",
   "nbconvert_exporter": "python",
   "pygments_lexer": "ipython3",
   "version": "3.7.3"
  }
 },
 "nbformat": 4,
 "nbformat_minor": 2
}
