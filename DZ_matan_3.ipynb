{
 "cells": [
  {
   "cell_type": "code",
   "execution_count": 1,
   "metadata": {},
   "outputs": [],
   "source": [
    "import numpy as np\n",
    "from IPython.display import display, Math, Latex\n",
    "\n",
    "import warnings\n",
    "warnings.filterwarnings('ignore')"
   ]
  },
  {
   "cell_type": "markdown",
   "metadata": {},
   "source": [
    "### Урок: “Понятие о производной”"
   ]
  },
  {
   "cell_type": "markdown",
   "metadata": {},
   "source": [
    "#### 1. Найти производную выражения:"
   ]
  },
  {
   "cell_type": "markdown",
   "metadata": {},
   "source": [
    "## a) $(\\sin{x}\\cdot\\cos{x})' = \\sin'{x} \\cos{x} + \\sin{x}\\cos'{x} = \\cos^2{x} - \\sin^2{x}$\n",
    "\n",
    "## b) $(\\ln(2x+1)^3)' = \\frac{((2x+1)^3)'}{(2x+1)^3} = \\frac{6(2x+1)^2}{(2x+1)^3} = \\frac{6}{2x+1}$\n",
    "\n",
    "## c) $\\left(\\sqrt{\\sin^2(\\ln x^3)}\\right)' = \\frac{(\\sin^2(\\ln x^3))'}{2\\sqrt{\\sin^2(\\ln x^3)}} = \\frac{2\\sin(\\ln x^3)\\sin'(\\ln x^3)}{2\\sqrt{\\sin^2(\\ln x^3)}} = \\frac{2\\sin(\\ln x^3)\\cos(\\ln x^3)\\ln' x^3}{2\\sqrt{\\sin^2(\\ln x^3)}}  = \\frac{2\\sin(\\ln x^3)\\cos(\\ln x^3)\\cdot 3x^2}{2 x^3\\sqrt{\\sin^2(\\ln x^3)}} = \\frac{2\\sin(\\ln x^3)\\cos(\\ln x^3)\\cdot 3x^2}{2 x^3\\sqrt{\\sin^2(\\ln x^3)}} = \\frac{3\\sin(\\ln x^3)\\cos(\\ln x^3) \\sqrt{\\sin^2(\\ln x^3)}}{x\\sin^2(\\ln x^3)} = \\frac{3 ctg(\\ln x^3)\\sqrt{\\sin^2(\\ln x^3)}}{x}$\n",
    "\n",
    "## d) $\\left(\\frac{x^4}{\\ln x}\\right)' = \\frac{(x^4)'\\ln x - x^4 \\ln' x}{\\ln^2 x} = \\frac{3x^3\\ln x - x^3}{\\ln^2 x}$"
   ]
  },
  {
   "cell_type": "markdown",
   "metadata": {},
   "source": [
    "#### 2. Найти выражение производной функции и ее значение в точке"
   ]
  },
  {
   "cell_type": "markdown",
   "metadata": {},
   "source": [
    "## $f(x) = \\cos(x^2 + 3x)$, $x_0 = \\sqrt{\\pi}$\n",
    "\n",
    "## $f'(x) = -\\sin(x^2 + 3x)\\cdot (x^2+3x)' = -\\sin(x^2 + 3x)\\cdot (2x+3)$"
   ]
  },
  {
   "cell_type": "code",
   "execution_count": 2,
   "metadata": {},
   "outputs": [
    {
     "data": {
      "text/latex": [
       "$\\displaystyle f'(\\sqrt{\\pi}) = -\\sin(\\pi + 3\\sqrt{\\pi})\\cdot (2\\sqrt{\\pi}+3) = $"
      ],
      "text/plain": [
       "<IPython.core.display.Math object>"
      ]
     },
     "metadata": {},
     "output_type": "display_data"
    },
    {
     "data": {
      "text/plain": [
       "-5.38"
      ]
     },
     "metadata": {},
     "output_type": "display_data"
    }
   ],
   "source": [
    "display(Math(r\"f'(\\sqrt{\\pi}) = -\\sin(\\pi + 3\\sqrt{\\pi})\\cdot (2\\sqrt{\\pi}+3) = \"), np.round(-np.sin(np.pi + 3 * np.sqrt(np.pi)) * (2 * np.sqrt(np.pi) + 3),2))"
   ]
  },
  {
   "cell_type": "markdown",
   "metadata": {},
   "source": [
    "#### 4. Найти угол наклона касательной к графику функции в точке:"
   ]
  },
  {
   "cell_type": "markdown",
   "metadata": {},
   "source": [
    "$f(x) = \\sqrt{3x} \\cdot \\ln x, x_0 = 1$"
   ]
  },
  {
   "cell_type": "markdown",
   "metadata": {},
   "source": [
    "$\\displaystyle f'(x) = (\\sqrt{3x})' \\cdot \\ln x + \\sqrt{3x} \\cdot \\ln' x = (\\sqrt{3x})' \\cdot \\ln x + \\frac{\\sqrt{3x}}{x}$\n",
    "\n",
    "$\\displaystyle f'(1) = 0 + \\frac{\\sqrt{3}}{1} = \\sqrt{3}$\n",
    "\n",
    "Угол наклона = $arctg \\sqrt{3}=\\frac{\\pi}{3} = 60^{\\circ}$"
   ]
  }
 ],
 "metadata": {
  "kernelspec": {
   "display_name": "Python 3",
   "language": "python",
   "name": "python3"
  },
  "language_info": {
   "codemirror_mode": {
    "name": "ipython",
    "version": 3
   },
   "file_extension": ".py",
   "mimetype": "text/x-python",
   "name": "python",
   "nbconvert_exporter": "python",
   "pygments_lexer": "ipython3",
   "version": "3.7.3"
  }
 },
 "nbformat": 4,
 "nbformat_minor": 2
}
